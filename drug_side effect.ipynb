{
 "cells": [
  {
   "cell_type": "code",
   "execution_count": 4,
   "id": "0f11d267",
   "metadata": {},
   "outputs": [],
   "source": [
    "#import all the relevant libraries\n",
    "import pandas as pd\n",
    "import numpy as np\n",
    "import matplotlib.pyplot as plt\n",
    "import seaborn as sns\n",
    "import warnings\n",
    "warnings.filterwarnings('ignore')"
   ]
  },
  {
   "cell_type": "markdown",
   "id": "c57ca9ea",
   "metadata": {},
   "source": [
    "Description of the dataset\n",
    "Name : Name of the patient\n",
    "\n",
    "Race : Race of the patient\n",
    "\n",
    "Age : Age of the patient\n",
    "\n",
    "Gender : Gender of the patient\n",
    "\n",
    "Sides effects : Side effects of the drug\n",
    "    \n",
    "Drug name : Name of the drug"
   ]
  },
  {
   "cell_type": "code",
   "execution_count": 5,
   "id": "b50bc340",
   "metadata": {},
   "outputs": [],
   "source": [
    "#load the dataset into a variable named data\n",
    "data=pd.read_csv(\"DRUG BATCH SIDE EFFECTS DATASET 0.1.csv\")"
   ]
  },
  {
   "cell_type": "code",
   "execution_count": 6,
   "id": "99261304",
   "metadata": {},
   "outputs": [
    {
     "data": {
      "text/html": [
       "<div>\n",
       "<style scoped>\n",
       "    .dataframe tbody tr th:only-of-type {\n",
       "        vertical-align: middle;\n",
       "    }\n",
       "\n",
       "    .dataframe tbody tr th {\n",
       "        vertical-align: top;\n",
       "    }\n",
       "\n",
       "    .dataframe thead th {\n",
       "        text-align: right;\n",
       "    }\n",
       "</style>\n",
       "<table border=\"1\" class=\"dataframe\">\n",
       "  <thead>\n",
       "    <tr style=\"text-align: right;\">\n",
       "      <th></th>\n",
       "      <th>NAME</th>\n",
       "      <th>GENDER</th>\n",
       "      <th>DRUG NAME</th>\n",
       "      <th>AGE</th>\n",
       "      <th>RACE</th>\n",
       "      <th>SIDE EFFECTS</th>\n",
       "    </tr>\n",
       "  </thead>\n",
       "  <tbody>\n",
       "    <tr>\n",
       "      <th>0</th>\n",
       "      <td>Aaban</td>\n",
       "      <td>M</td>\n",
       "      <td>topamax</td>\n",
       "      <td>41.0</td>\n",
       "      <td>White</td>\n",
       "      <td>Mild Side Effects</td>\n",
       "    </tr>\n",
       "    <tr>\n",
       "      <th>1</th>\n",
       "      <td>Aaban</td>\n",
       "      <td>M</td>\n",
       "      <td>zocor</td>\n",
       "      <td>53.0</td>\n",
       "      <td>Hispanic, White</td>\n",
       "      <td>Extremely Severe Side Effects</td>\n",
       "    </tr>\n",
       "    <tr>\n",
       "      <th>2</th>\n",
       "      <td>Aabha</td>\n",
       "      <td>F</td>\n",
       "      <td>tazorac</td>\n",
       "      <td>31.0</td>\n",
       "      <td>White</td>\n",
       "      <td>Mild Side Effects</td>\n",
       "    </tr>\n",
       "    <tr>\n",
       "      <th>3</th>\n",
       "      <td>Aabha</td>\n",
       "      <td>F</td>\n",
       "      <td>voltaren</td>\n",
       "      <td>44.0</td>\n",
       "      <td>White</td>\n",
       "      <td>Severe Side Effects</td>\n",
       "    </tr>\n",
       "    <tr>\n",
       "      <th>4</th>\n",
       "      <td>Aabid</td>\n",
       "      <td>M</td>\n",
       "      <td>tramadol</td>\n",
       "      <td>24.0</td>\n",
       "      <td>White</td>\n",
       "      <td>No Side Effects</td>\n",
       "    </tr>\n",
       "  </tbody>\n",
       "</table>\n",
       "</div>"
      ],
      "text/plain": [
       "    NAME GENDER DRUG NAME   AGE             RACE  \\\n",
       "0  Aaban      M   topamax  41.0            White   \n",
       "1  Aaban      M     zocor  53.0  Hispanic, White   \n",
       "2  Aabha      F   tazorac  31.0            White   \n",
       "3  Aabha      F  voltaren  44.0            White   \n",
       "4  Aabid      M  tramadol  24.0            White   \n",
       "\n",
       "                    SIDE EFFECTS  \n",
       "0              Mild Side Effects  \n",
       "1  Extremely Severe Side Effects  \n",
       "2              Mild Side Effects  \n",
       "3            Severe Side Effects  \n",
       "4                No Side Effects  "
      ]
     },
     "execution_count": 6,
     "metadata": {},
     "output_type": "execute_result"
    }
   ],
   "source": [
    "#checking the data head\n",
    "data.head()"
   ]
  },
  {
   "cell_type": "code",
   "execution_count": 7,
   "id": "254dd247",
   "metadata": {},
   "outputs": [
    {
     "name": "stdout",
     "output_type": "stream",
     "text": [
      "<class 'pandas.core.frame.DataFrame'>\n",
      "RangeIndex: 400000 entries, 0 to 399999\n",
      "Data columns (total 6 columns):\n",
      " #   Column        Non-Null Count   Dtype  \n",
      "---  ------        --------------   -----  \n",
      " 0   NAME          400000 non-null  object \n",
      " 1   GENDER        400000 non-null  object \n",
      " 2   DRUG NAME     400000 non-null  object \n",
      " 3   AGE           399980 non-null  float64\n",
      " 4   RACE          400000 non-null  object \n",
      " 5   SIDE EFFECTS  400000 non-null  object \n",
      "dtypes: float64(1), object(5)\n",
      "memory usage: 18.3+ MB\n"
     ]
    }
   ],
   "source": [
    "#checking the data info\n",
    "data.info()"
   ]
  },
  {
   "cell_type": "markdown",
   "id": "5b60635a",
   "metadata": {},
   "source": [
    "Insight:\n",
    "The info() method will give summary of the dataset. We can know the basic information about the dataset including the type of columns, non-null values and memory usage. This dataset contains 5 categorical variables and 1 integer variables."
   ]
  },
  {
   "cell_type": "code",
   "execution_count": 8,
   "id": "be88f454",
   "metadata": {},
   "outputs": [
    {
     "data": {
      "text/plain": [
       "(400000, 6)"
      ]
     },
     "execution_count": 8,
     "metadata": {},
     "output_type": "execute_result"
    }
   ],
   "source": [
    "#checking the data shape\n",
    "data.shape"
   ]
  },
  {
   "cell_type": "markdown",
   "id": "c24926fb",
   "metadata": {},
   "source": [
    "Insight:\n",
    "The dataset contains 400000 rows and 6 columns."
   ]
  },
  {
   "cell_type": "code",
   "execution_count": 9,
   "id": "9fafed7d",
   "metadata": {},
   "outputs": [
    {
     "data": {
      "text/html": [
       "<div>\n",
       "<style scoped>\n",
       "    .dataframe tbody tr th:only-of-type {\n",
       "        vertical-align: middle;\n",
       "    }\n",
       "\n",
       "    .dataframe tbody tr th {\n",
       "        vertical-align: top;\n",
       "    }\n",
       "\n",
       "    .dataframe thead th {\n",
       "        text-align: right;\n",
       "    }\n",
       "</style>\n",
       "<table border=\"1\" class=\"dataframe\">\n",
       "  <thead>\n",
       "    <tr style=\"text-align: right;\">\n",
       "      <th></th>\n",
       "      <th>AGE</th>\n",
       "    </tr>\n",
       "  </thead>\n",
       "  <tbody>\n",
       "    <tr>\n",
       "      <th>count</th>\n",
       "      <td>399980.000000</td>\n",
       "    </tr>\n",
       "    <tr>\n",
       "      <th>mean</th>\n",
       "      <td>41.466513</td>\n",
       "    </tr>\n",
       "    <tr>\n",
       "      <th>std</th>\n",
       "      <td>12.550773</td>\n",
       "    </tr>\n",
       "    <tr>\n",
       "      <th>min</th>\n",
       "      <td>14.000000</td>\n",
       "    </tr>\n",
       "    <tr>\n",
       "      <th>25%</th>\n",
       "      <td>31.000000</td>\n",
       "    </tr>\n",
       "    <tr>\n",
       "      <th>50%</th>\n",
       "      <td>41.000000</td>\n",
       "    </tr>\n",
       "    <tr>\n",
       "      <th>75%</th>\n",
       "      <td>51.000000</td>\n",
       "    </tr>\n",
       "    <tr>\n",
       "      <th>max</th>\n",
       "      <td>600.000000</td>\n",
       "    </tr>\n",
       "  </tbody>\n",
       "</table>\n",
       "</div>"
      ],
      "text/plain": [
       "                 AGE\n",
       "count  399980.000000\n",
       "mean       41.466513\n",
       "std        12.550773\n",
       "min        14.000000\n",
       "25%        31.000000\n",
       "50%        41.000000\n",
       "75%        51.000000\n",
       "max       600.000000"
      ]
     },
     "execution_count": 9,
     "metadata": {},
     "output_type": "execute_result"
    }
   ],
   "source": [
    "#checking the data describe\n",
    "data.describe()"
   ]
  },
  {
   "cell_type": "markdown",
   "id": "f032536a",
   "metadata": {},
   "source": [
    "Insight:\n",
    "Displays the summary statistics such as count, mean, standard deviation, minimum and maximum value, first, second and third quartile values."
   ]
  },
  {
   "cell_type": "code",
   "execution_count": 10,
   "id": "85813d61",
   "metadata": {},
   "outputs": [
    {
     "data": {
      "text/plain": [
       "NAME             object\n",
       "GENDER           object\n",
       "DRUG NAME        object\n",
       "AGE             float64\n",
       "RACE             object\n",
       "SIDE EFFECTS     object\n",
       "dtype: object"
      ]
     },
     "execution_count": 10,
     "metadata": {},
     "output_type": "execute_result"
    }
   ],
   "source": [
    "data.dtypes"
   ]
  },
  {
   "cell_type": "code",
   "execution_count": 11,
   "id": "5ca98495",
   "metadata": {},
   "outputs": [
    {
     "data": {
      "text/plain": [
       "NAME             0\n",
       "GENDER           0\n",
       "DRUG NAME        0\n",
       "AGE             20\n",
       "RACE             0\n",
       "SIDE EFFECTS     0\n",
       "dtype: int64"
      ]
     },
     "execution_count": 11,
     "metadata": {},
     "output_type": "execute_result"
    }
   ],
   "source": [
    "#checking is there any null values\n",
    "data.isna().sum()"
   ]
  },
  {
   "cell_type": "markdown",
   "id": "101c859a",
   "metadata": {},
   "source": [
    "Inference\n",
    "There are missing values in the AGE."
   ]
  },
  {
   "cell_type": "code",
   "execution_count": 12,
   "id": "c637d0e0",
   "metadata": {},
   "outputs": [
    {
     "name": "stdout",
     "output_type": "stream",
     "text": [
      "NAME:133911unique values\n",
      "GENDER\n",
      "['M' 'F']\n",
      "DRUG NAME:502unique values\n",
      "AGE:81unique values\n",
      "RACE\n",
      "['White' 'Hispanic, White' 'Unknown' 'Black' 'Other' 'Hispanic, Black'\n",
      " 'Asian, Other' 'Asian Indian' 'Chinese']\n",
      "SIDE EFFECTS\n",
      "['Mild Side Effects' 'Extremely Severe Side Effects' 'Severe Side Effects'\n",
      " 'No Side Effects' 'Moderate Side Effects']\n"
     ]
    }
   ],
   "source": [
    "# for each column\n",
    "for c in list(data.columns):\n",
    "    #  get a list of unique values\n",
    "    n=data[c].unique()\n",
    "    # if the number of unique values is less than 30 print values ,otherwise print the number of unoque values\n",
    "    if len(n)<30:\n",
    "        print(c)\n",
    "        print(n)\n",
    "    else:\n",
    "        print(c+':'+str(len(n))+'unique values')\n",
    "    "
   ]
  },
  {
   "cell_type": "markdown",
   "id": "570cf1c4",
   "metadata": {},
   "source": [
    "Insight:\n",
    "'Sex' has two categories.\n",
    "\n",
    " Nine  different 'races' are present.\n",
    "\n",
    "'Drug' has 502  variety.\n",
    "\n",
    "'Age ' has 81 unique values\n",
    "\n",
    "five different 'side effects'. "
   ]
  },
  {
   "cell_type": "code",
   "execution_count": 13,
   "id": "331b74b5",
   "metadata": {},
   "outputs": [
    {
     "data": {
      "text/plain": [
       "1792"
      ]
     },
     "execution_count": 13,
     "metadata": {},
     "output_type": "execute_result"
    }
   ],
   "source": [
    "data.duplicated().sum()"
   ]
  },
  {
   "cell_type": "code",
   "execution_count": 14,
   "id": "2cd8196c",
   "metadata": {},
   "outputs": [],
   "source": [
    "# dropping duplicate values\n",
    "data.drop_duplicates(keep=False, inplace=True)"
   ]
  },
  {
   "cell_type": "code",
   "execution_count": 15,
   "id": "89435b4b",
   "metadata": {},
   "outputs": [
    {
     "data": {
      "text/plain": [
       "0"
      ]
     },
     "execution_count": 15,
     "metadata": {},
     "output_type": "execute_result"
    }
   ],
   "source": [
    "data.duplicated().sum()"
   ]
  },
  {
   "cell_type": "markdown",
   "id": "c0e7100f",
   "metadata": {},
   "source": [
    "# EDA (Exploratory data analysis)¶"
   ]
  },
  {
   "cell_type": "markdown",
   "id": "87348a62",
   "metadata": {},
   "source": [
    "# RACE"
   ]
  },
  {
   "cell_type": "code",
   "execution_count": 16,
   "id": "bbbd71d3",
   "metadata": {},
   "outputs": [
    {
     "data": {
      "text/plain": [
       "White              311281\n",
       "Hispanic, White     43669\n",
       "Black               35544\n",
       "Unknown              3018\n",
       "Hispanic, Black      1643\n",
       "Other                 994\n",
       "Asian, Other          168\n",
       "Asian Indian          104\n",
       "Chinese                 8\n",
       "Name: RACE, dtype: int64"
      ]
     },
     "execution_count": 16,
     "metadata": {},
     "output_type": "execute_result"
    }
   ],
   "source": [
    "data['RACE'].value_counts()"
   ]
  },
  {
   "cell_type": "code",
   "execution_count": 17,
   "id": "d626f6f4",
   "metadata": {},
   "outputs": [],
   "source": [
    "mapped_race={\"Unknown\":\"Other\"}"
   ]
  },
  {
   "cell_type": "code",
   "execution_count": 18,
   "id": "6f6520ee",
   "metadata": {},
   "outputs": [],
   "source": [
    "data['RACE']=data['RACE'].replace(mapped_race)"
   ]
  },
  {
   "cell_type": "code",
   "execution_count": 19,
   "id": "a3bdccdc",
   "metadata": {},
   "outputs": [
    {
     "data": {
      "text/plain": [
       "array(['White', 'Hispanic, White', 'Other', 'Black', 'Hispanic, Black',\n",
       "       'Asian, Other', 'Asian Indian', 'Chinese'], dtype=object)"
      ]
     },
     "execution_count": 19,
     "metadata": {},
     "output_type": "execute_result"
    }
   ],
   "source": [
    "data['RACE'].unique()"
   ]
  },
  {
   "cell_type": "markdown",
   "id": "eba51580",
   "metadata": {},
   "source": [
    "Inference\n",
    "\n",
    "\n",
    "According to the value counts of \"RACE\", white categorized peoples are taken the most drugs consuming for their treatments and the chinese are the least.\n",
    "Mapped the other to unknown category"
   ]
  },
  {
   "cell_type": "code",
   "execution_count": 20,
   "id": "bc3496af",
   "metadata": {},
   "outputs": [
    {
     "data": {
      "text/plain": [
       "<AxesSubplot:ylabel='RACE'>"
      ]
     },
     "execution_count": 20,
     "metadata": {},
     "output_type": "execute_result"
    },
    {
     "data": {
      "image/png": "[encoded data removed]",
      "text/plain": [
       "<Figure size 1800x576 with 2 Axes>"
      ]
     },
     "metadata": {
      "needs_background": "light"
     },
     "output_type": "display_data"
    }
   ],
   "source": [
    "fig,axes = plt.subplots(1,2, figsize = (25,8))\n",
    "plot = sns.barplot(data=data, x=data['RACE'].value_counts().index, y = data['RACE'].value_counts().values, ax = axes[0])\n",
    "for p in plot.patches:\n",
    "    plot.annotate(p.get_height(), (p.get_x()+p.get_width()/5, p.get_height()+100))\n",
    "data['RACE'].value_counts().plot(kind = 'pie', autopct = '%1.2f%%', ax = axes[1])"
   ]
  },
  {
   "cell_type": "markdown",
   "id": "654c63ed",
   "metadata": {},
   "source": [
    "# GENDER"
   ]
  },
  {
   "cell_type": "code",
   "execution_count": 21,
   "id": "24943767",
   "metadata": {},
   "outputs": [
    {
     "data": {
      "image/png": "[encoded data removed]",
      "text/plain": [
       "<Figure size 360x360 with 1 Axes>"
      ]
     },
     "metadata": {
      "needs_background": "light"
     },
     "output_type": "display_data"
    }
   ],
   "source": [
    "plt.figure(figsize=(5,5))\n",
    "sns.countplot(data['GENDER'])\n",
    "plt.show()"
   ]
  },
  {
   "cell_type": "markdown",
   "id": "7fba15c6",
   "metadata": {},
   "source": [
    "Inference\n",
    "\n",
    "\n",
    "from the Gender count we can see that  Females are much more than males in this dataset"
   ]
  },
  {
   "cell_type": "markdown",
   "id": "53034341",
   "metadata": {},
   "source": [
    "# DRUG NAME"
   ]
  },
  {
   "cell_type": "code",
   "execution_count": 22,
   "id": "b3cb0ec6",
   "metadata": {},
   "outputs": [
    {
     "data": {
      "image/png": "[encoded data removed]",
      "text/plain": [
       "<Figure size 1440x720 with 1 Axes>"
      ]
     },
     "metadata": {
      "needs_background": "light"
     },
     "output_type": "display_data"
    }
   ],
   "source": [
    "#plot a bargraph to check top 20 drugs used\n",
    "plt.figure(figsize=(20,10))\n",
    "data['DRUG NAME'].value_counts().nlargest(20).plot(kind='bar')\n",
    "plt.title(\"Top 20 Most popular drugs based on counts\")\n",
    "plt.show()"
   ]
  },
  {
   "cell_type": "code",
   "execution_count": 23,
   "id": "e4c69650",
   "metadata": {},
   "outputs": [
    {
     "data": {
      "text/plain": [
       "paxil         6217\n",
       "lamictal      5986\n",
       "nexium        5973\n",
       "levoxyl       5896\n",
       "lexapro       5643\n",
       "              ... \n",
       "lantus           8\n",
       "periostat        8\n",
       "proair-hfa       8\n",
       "bactrim-ds       8\n",
       "arimidex         8\n",
       "Name: DRUG NAME, Length: 502, dtype: int64"
      ]
     },
     "execution_count": 23,
     "metadata": {},
     "output_type": "execute_result"
    }
   ],
   "source": [
    "data['DRUG NAME'].value_counts()"
   ]
  },
  {
   "cell_type": "markdown",
   "id": "d29dcca4",
   "metadata": {},
   "source": [
    "paxil is the most used drug "
   ]
  },
  {
   "cell_type": "code",
   "execution_count": 24,
   "id": "e5219d6a",
   "metadata": {},
   "outputs": [
    {
     "data": {
      "image/png": "[encoded data removed]",
      "text/plain": [
       "<Figure size 864x432 with 1 Axes>"
      ]
     },
     "metadata": {
      "needs_background": "light"
     },
     "output_type": "display_data"
    }
   ],
   "source": [
    "#plot a bargraph to check bottom 20 drugs used\n",
    "plt.figure(figsize=(12,6))\n",
    "drug_bottom=data['DRUG NAME'].value_counts(ascending = False).tail(20)\n",
    "\n",
    "plt.bar(drug_bottom.index,drug_bottom.values,color='blue')\n",
    "plt.title('Bottom 20 drugs used',fontsize = 20)\n",
    "plt.xticks(rotation=90)\n",
    "plt.ylabel('count')\n",
    "plt.show()"
   ]
  },
  {
   "cell_type": "markdown",
   "id": "60ce3f93",
   "metadata": {},
   "source": [
    "The above being interpretation of the generic data, in line with the objective of project, will move ahead selecting a particular drug Topamax, one featuring in the top 20.\n",
    "\n",
    "\n",
    "\n",
    "Conditions - Topamax"
   ]
  },
  {
   "cell_type": "code",
   "execution_count": 25,
   "id": "b8429083",
   "metadata": {},
   "outputs": [
    {
     "data": {
      "text/plain": [
       "Text(0, 0.5, 'Count')"
      ]
     },
     "execution_count": 25,
     "metadata": {},
     "output_type": "execute_result"
    },
    {
     "data": {
      "image/png": "[encoded data removed]",
      "text/plain": [
       "<Figure size 576x576 with 1 Axes>"
      ]
     },
     "metadata": {
      "needs_background": "light"
     },
     "output_type": "display_data"
    }
   ],
   "source": [
    "data['SIDE EFFECTS'].value_counts().nlargest(12).plot(kind='bar',figsize=(8,8))\n",
    "plt.suptitle(\"Topamax Conditions\")\n",
    "plt.xlabel('Condition')\n",
    "plt.ylabel('Count')"
   ]
  },
  {
   "cell_type": "code",
   "execution_count": null,
   "id": "0a155fae",
   "metadata": {},
   "outputs": [],
   "source": []
  },
  {
   "cell_type": "markdown",
   "id": "d3c21705",
   "metadata": {},
   "source": [
    "# AGE"
   ]
  },
  {
   "cell_type": "markdown",
   "id": "f6c8c8dc",
   "metadata": {},
   "source": [
    "# Usage of drugs with respect to age"
   ]
  },
  {
   "cell_type": "code",
   "execution_count": 26,
   "id": "af248eb0",
   "metadata": {},
   "outputs": [
    {
     "data": {
      "text/plain": [
       "NAME            0\n",
       "GENDER          0\n",
       "DRUG NAME       0\n",
       "AGE             0\n",
       "RACE            0\n",
       "SIDE EFFECTS    0\n",
       "dtype: int64"
      ]
     },
     "execution_count": 26,
     "metadata": {},
     "output_type": "execute_result"
    }
   ],
   "source": [
    "#filling the missing values in age with respect to the median of it.\n",
    "data[\"AGE\"]=data[\"AGE\"].fillna(data[\"AGE\"].median())\n",
    "data.isna().sum()"
   ]
  },
  {
   "cell_type": "markdown",
   "id": "da9ded8f",
   "metadata": {},
   "source": [
    "# Checking for outliers"
   ]
  },
  {
   "cell_type": "code",
   "execution_count": 27,
   "id": "4528a7ca",
   "metadata": {},
   "outputs": [
    {
     "data": {
      "text/plain": [
       "<AxesSubplot:xlabel='AGE'>"
      ]
     },
     "execution_count": 27,
     "metadata": {},
     "output_type": "execute_result"
    },
    {
     "data": {
      "image/png": "[encoded data removed]",
      "text/plain": [
       "<Figure size 432x288 with 1 Axes>"
      ]
     },
     "metadata": {
      "needs_background": "light"
     },
     "output_type": "display_data"
    }
   ],
   "source": [
    "sns.boxplot(data['AGE'])\n"
   ]
  },
  {
   "cell_type": "code",
   "execution_count": 28,
   "id": "01f80942",
   "metadata": {},
   "outputs": [
    {
     "name": "stdout",
     "output_type": "stream",
     "text": [
      "value of Q1: 34.0\n",
      "value of Q2: 45.0\n",
      "value of Q3: 57.0\n"
     ]
    }
   ],
   "source": [
    "# Calculate quartile values for 'AGE' using 30,60 and 90 percentile values\n",
    "Q1=np.percentile(data[\"AGE\"],30,interpolation= \"midpoint\")\n",
    "Q2=np.percentile(data[\"AGE\"],60,interpolation= \"midpoint\")\n",
    "Q3=np.percentile(data[\"AGE\"],90,interpolation= \"midpoint\")\n",
    "print(\"value of Q1:\",Q1)\n",
    "print(\"value of Q2:\",Q2)\n",
    "print(\"value of Q3:\",Q3)\n"
   ]
  },
  {
   "cell_type": "code",
   "execution_count": 29,
   "id": "99a0cafc",
   "metadata": {},
   "outputs": [
    {
     "data": {
      "text/plain": [
       "41.0"
      ]
     },
     "execution_count": 29,
     "metadata": {},
     "output_type": "execute_result"
    }
   ],
   "source": [
    "data[\"AGE\"].median()"
   ]
  },
  {
   "cell_type": "code",
   "execution_count": 30,
   "id": "7960720e",
   "metadata": {},
   "outputs": [
    {
     "name": "stdout",
     "output_type": "stream",
     "text": [
      "Upper limit value is: 91.5\n",
      "Lower limit value is: -0.5\n"
     ]
    }
   ],
   "source": [
    "IQR= Q3-Q1\n",
    "Upper_lim= Q3+1.5*IQR\n",
    "Lower_lim=Q1-1.5*IQR\n",
    "print(\"Upper limit value is:\",Upper_lim)\n",
    "print(\"Lower limit value is:\",Lower_lim)"
   ]
  },
  {
   "cell_type": "code",
   "execution_count": 31,
   "id": "0f39369a",
   "metadata": {},
   "outputs": [],
   "source": [
    "outlier=[]\n",
    "for x in data[\"AGE\"]:\n",
    "    if((x>Upper_lim)or(x<Lower_lim)):\n",
    "        outlier.append(x)"
   ]
  },
  {
   "cell_type": "code",
   "execution_count": 32,
   "id": "c2790d8b",
   "metadata": {},
   "outputs": [
    {
     "data": {
      "text/plain": [
       "[300.0,\n",
       " 302.0,\n",
       " 500.0,\n",
       " 400.0,\n",
       " 203.0,\n",
       " 160.0,\n",
       " 400.0,\n",
       " 191.0,\n",
       " 450.0,\n",
       " 390.0,\n",
       " 155.0,\n",
       " 300.0,\n",
       " 390.0,\n",
       " 600.0,\n",
       " 211.0,\n",
       " 600.0,\n",
       " 401.0,\n",
       " 300.0,\n",
       " 390.0]"
      ]
     },
     "execution_count": 32,
     "metadata": {},
     "output_type": "execute_result"
    }
   ],
   "source": [
    "outlier"
   ]
  },
  {
   "cell_type": "code",
   "execution_count": 33,
   "id": "1047294a",
   "metadata": {},
   "outputs": [
    {
     "data": {
      "text/plain": [
       "Int64Index([  3008,  41048,  66169,  85047, 111850, 119574, 127240, 171643,\n",
       "            174039, 174487, 224733, 232518, 264849, 290165, 325631, 333669,\n",
       "            337790, 384352, 393820],\n",
       "           dtype='int64')"
      ]
     },
     "execution_count": 33,
     "metadata": {},
     "output_type": "execute_result"
    }
   ],
   "source": [
    "ind_val=data[\"AGE\"]>Upper_lim\n",
    "data.loc[ind_val].index"
   ]
  },
  {
   "cell_type": "code",
   "execution_count": 34,
   "id": "a8fe7a09",
   "metadata": {},
   "outputs": [],
   "source": [
    "data.drop([ 3008,  41048,  66169,  85047, 111850, 119574, 127240, 171643,\n",
    "            174039, 174487, 224733, 232518, 264849, 290165, 325631, 333669,\n",
    "            337790, 384352, 393820],inplace=True)\n"
   ]
  },
  {
   "cell_type": "markdown",
   "id": "5a01dd2e",
   "metadata": {},
   "source": [
    "# Inference\n",
    "\n",
    "In this case we're taking quartile values for 'AGE' using 30,60 and 90 percentile values Because according to the age logically maximum life expactancy is about 80-90 years in rare case it's upto 102-110.so we conclude to detect the outliers above 110 and droping for the better accuracy in model. "
   ]
  },
  {
   "cell_type": "code",
   "execution_count": 35,
   "id": "5a265525",
   "metadata": {},
   "outputs": [
    {
     "data": {
      "text/plain": [
       "<AxesSubplot:xlabel='AGE'>"
      ]
     },
     "execution_count": 35,
     "metadata": {},
     "output_type": "execute_result"
    },
    {
     "data": {
      "image/png": "[encoded data removed]",
      "text/plain": [
       "<Figure size 432x288 with 1 Axes>"
      ]
     },
     "metadata": {
      "needs_background": "light"
     },
     "output_type": "display_data"
    }
   ],
   "source": [
    "sns.boxplot(data['AGE'])"
   ]
  },
  {
   "cell_type": "code",
   "execution_count": 36,
   "id": "f34ddc3e",
   "metadata": {},
   "outputs": [],
   "source": [
    "data['AGE'] = data['AGE'].astype(int)"
   ]
  },
  {
   "cell_type": "markdown",
   "id": "911fabfe",
   "metadata": {},
   "source": [
    "Changing the age to int value"
   ]
  },
  {
   "cell_type": "code",
   "execution_count": 37,
   "id": "c25ebb91",
   "metadata": {},
   "outputs": [
    {
     "data": {
      "text/html": [
       "<div>\n",
       "<style scoped>\n",
       "    .dataframe tbody tr th:only-of-type {\n",
       "        vertical-align: middle;\n",
       "    }\n",
       "\n",
       "    .dataframe tbody tr th {\n",
       "        vertical-align: top;\n",
       "    }\n",
       "\n",
       "    .dataframe thead th {\n",
       "        text-align: right;\n",
       "    }\n",
       "</style>\n",
       "<table border=\"1\" class=\"dataframe\">\n",
       "  <thead>\n",
       "    <tr style=\"text-align: right;\">\n",
       "      <th></th>\n",
       "      <th>NAME</th>\n",
       "      <th>GENDER</th>\n",
       "      <th>DRUG NAME</th>\n",
       "      <th>AGE</th>\n",
       "      <th>RACE</th>\n",
       "      <th>SIDE EFFECTS</th>\n",
       "    </tr>\n",
       "  </thead>\n",
       "  <tbody>\n",
       "    <tr>\n",
       "      <th>0</th>\n",
       "      <td>Aaban</td>\n",
       "      <td>M</td>\n",
       "      <td>topamax</td>\n",
       "      <td>41</td>\n",
       "      <td>White</td>\n",
       "      <td>Mild Side Effects</td>\n",
       "    </tr>\n",
       "    <tr>\n",
       "      <th>1</th>\n",
       "      <td>Aaban</td>\n",
       "      <td>M</td>\n",
       "      <td>zocor</td>\n",
       "      <td>53</td>\n",
       "      <td>Hispanic, White</td>\n",
       "      <td>Extremely Severe Side Effects</td>\n",
       "    </tr>\n",
       "    <tr>\n",
       "      <th>2</th>\n",
       "      <td>Aabha</td>\n",
       "      <td>F</td>\n",
       "      <td>tazorac</td>\n",
       "      <td>31</td>\n",
       "      <td>White</td>\n",
       "      <td>Mild Side Effects</td>\n",
       "    </tr>\n",
       "    <tr>\n",
       "      <th>3</th>\n",
       "      <td>Aabha</td>\n",
       "      <td>F</td>\n",
       "      <td>voltaren</td>\n",
       "      <td>44</td>\n",
       "      <td>White</td>\n",
       "      <td>Severe Side Effects</td>\n",
       "    </tr>\n",
       "    <tr>\n",
       "      <th>4</th>\n",
       "      <td>Aabid</td>\n",
       "      <td>M</td>\n",
       "      <td>tramadol</td>\n",
       "      <td>24</td>\n",
       "      <td>White</td>\n",
       "      <td>No Side Effects</td>\n",
       "    </tr>\n",
       "    <tr>\n",
       "      <th>...</th>\n",
       "      <td>...</td>\n",
       "      <td>...</td>\n",
       "      <td>...</td>\n",
       "      <td>...</td>\n",
       "      <td>...</td>\n",
       "      <td>...</td>\n",
       "    </tr>\n",
       "    <tr>\n",
       "      <th>399995</th>\n",
       "      <td>TRUE</td>\n",
       "      <td>M</td>\n",
       "      <td>lamisil</td>\n",
       "      <td>50</td>\n",
       "      <td>White</td>\n",
       "      <td>Severe Side Effects</td>\n",
       "    </tr>\n",
       "    <tr>\n",
       "      <th>399996</th>\n",
       "      <td>TRUE</td>\n",
       "      <td>M</td>\n",
       "      <td>klaron</td>\n",
       "      <td>55</td>\n",
       "      <td>Hispanic, White</td>\n",
       "      <td>No Side Effects</td>\n",
       "    </tr>\n",
       "    <tr>\n",
       "      <th>399997</th>\n",
       "      <td>TRUE</td>\n",
       "      <td>M</td>\n",
       "      <td>celexa</td>\n",
       "      <td>57</td>\n",
       "      <td>Other</td>\n",
       "      <td>Severe Side Effects</td>\n",
       "    </tr>\n",
       "    <tr>\n",
       "      <th>399998</th>\n",
       "      <td>TRUE</td>\n",
       "      <td>F</td>\n",
       "      <td>zoloft</td>\n",
       "      <td>59</td>\n",
       "      <td>White</td>\n",
       "      <td>No Side Effects</td>\n",
       "    </tr>\n",
       "    <tr>\n",
       "      <th>399999</th>\n",
       "      <td>TRUE</td>\n",
       "      <td>M</td>\n",
       "      <td>prilosec</td>\n",
       "      <td>65</td>\n",
       "      <td>White</td>\n",
       "      <td>Mild Side Effects</td>\n",
       "    </tr>\n",
       "  </tbody>\n",
       "</table>\n",
       "<p>396410 rows × 6 columns</p>\n",
       "</div>"
      ],
      "text/plain": [
       "         NAME GENDER DRUG NAME  AGE             RACE  \\\n",
       "0       Aaban      M   topamax   41            White   \n",
       "1       Aaban      M     zocor   53  Hispanic, White   \n",
       "2       Aabha      F   tazorac   31            White   \n",
       "3       Aabha      F  voltaren   44            White   \n",
       "4       Aabid      M  tramadol   24            White   \n",
       "...       ...    ...       ...  ...              ...   \n",
       "399995   TRUE      M   lamisil   50            White   \n",
       "399996   TRUE      M    klaron   55  Hispanic, White   \n",
       "399997   TRUE      M    celexa   57            Other   \n",
       "399998   TRUE      F    zoloft   59            White   \n",
       "399999   TRUE      M  prilosec   65            White   \n",
       "\n",
       "                         SIDE EFFECTS  \n",
       "0                   Mild Side Effects  \n",
       "1       Extremely Severe Side Effects  \n",
       "2                   Mild Side Effects  \n",
       "3                 Severe Side Effects  \n",
       "4                     No Side Effects  \n",
       "...                               ...  \n",
       "399995            Severe Side Effects  \n",
       "399996                No Side Effects  \n",
       "399997            Severe Side Effects  \n",
       "399998                No Side Effects  \n",
       "399999              Mild Side Effects  \n",
       "\n",
       "[396410 rows x 6 columns]"
      ]
     },
     "execution_count": 37,
     "metadata": {},
     "output_type": "execute_result"
    }
   ],
   "source": [
    "data"
   ]
  },
  {
   "cell_type": "code",
   "execution_count": 38,
   "id": "9e803a85",
   "metadata": {},
   "outputs": [],
   "source": [
    "category=pd.cut(data.AGE,bins=[0,3,17,65,99],labels=['Toddler/Baby','Child','Adult','Elderly'])"
   ]
  },
  {
   "cell_type": "code",
   "execution_count": 39,
   "id": "519ade37",
   "metadata": {},
   "outputs": [],
   "source": [
    "data.insert(5,'AGE CATEGORY',category)"
   ]
  },
  {
   "cell_type": "markdown",
   "id": "5d888244",
   "metadata": {},
   "source": [
    "Added a new column 'Age Category' to the dataframe which categorises 0-2 years as 'Toddler/Baby',3-16 years as 'Child',\n",
    "17-64 years as 'Adult',66-99 years as 'Elderly'"
   ]
  },
  {
   "cell_type": "code",
   "execution_count": 40,
   "id": "d142a06e",
   "metadata": {},
   "outputs": [
    {
     "data": {
      "text/html": [
       "<div>\n",
       "<style scoped>\n",
       "    .dataframe tbody tr th:only-of-type {\n",
       "        vertical-align: middle;\n",
       "    }\n",
       "\n",
       "    .dataframe tbody tr th {\n",
       "        vertical-align: top;\n",
       "    }\n",
       "\n",
       "    .dataframe thead th {\n",
       "        text-align: right;\n",
       "    }\n",
       "</style>\n",
       "<table border=\"1\" class=\"dataframe\">\n",
       "  <thead>\n",
       "    <tr style=\"text-align: right;\">\n",
       "      <th></th>\n",
       "      <th>NAME</th>\n",
       "      <th>GENDER</th>\n",
       "      <th>DRUG NAME</th>\n",
       "      <th>AGE</th>\n",
       "      <th>RACE</th>\n",
       "      <th>AGE CATEGORY</th>\n",
       "      <th>SIDE EFFECTS</th>\n",
       "    </tr>\n",
       "  </thead>\n",
       "  <tbody>\n",
       "    <tr>\n",
       "      <th>0</th>\n",
       "      <td>Aaban</td>\n",
       "      <td>M</td>\n",
       "      <td>topamax</td>\n",
       "      <td>41</td>\n",
       "      <td>White</td>\n",
       "      <td>Adult</td>\n",
       "      <td>Mild Side Effects</td>\n",
       "    </tr>\n",
       "    <tr>\n",
       "      <th>1</th>\n",
       "      <td>Aaban</td>\n",
       "      <td>M</td>\n",
       "      <td>zocor</td>\n",
       "      <td>53</td>\n",
       "      <td>Hispanic, White</td>\n",
       "      <td>Adult</td>\n",
       "      <td>Extremely Severe Side Effects</td>\n",
       "    </tr>\n",
       "    <tr>\n",
       "      <th>2</th>\n",
       "      <td>Aabha</td>\n",
       "      <td>F</td>\n",
       "      <td>tazorac</td>\n",
       "      <td>31</td>\n",
       "      <td>White</td>\n",
       "      <td>Adult</td>\n",
       "      <td>Mild Side Effects</td>\n",
       "    </tr>\n",
       "    <tr>\n",
       "      <th>3</th>\n",
       "      <td>Aabha</td>\n",
       "      <td>F</td>\n",
       "      <td>voltaren</td>\n",
       "      <td>44</td>\n",
       "      <td>White</td>\n",
       "      <td>Adult</td>\n",
       "      <td>Severe Side Effects</td>\n",
       "    </tr>\n",
       "    <tr>\n",
       "      <th>4</th>\n",
       "      <td>Aabid</td>\n",
       "      <td>M</td>\n",
       "      <td>tramadol</td>\n",
       "      <td>24</td>\n",
       "      <td>White</td>\n",
       "      <td>Adult</td>\n",
       "      <td>No Side Effects</td>\n",
       "    </tr>\n",
       "    <tr>\n",
       "      <th>...</th>\n",
       "      <td>...</td>\n",
       "      <td>...</td>\n",
       "      <td>...</td>\n",
       "      <td>...</td>\n",
       "      <td>...</td>\n",
       "      <td>...</td>\n",
       "      <td>...</td>\n",
       "    </tr>\n",
       "    <tr>\n",
       "      <th>399995</th>\n",
       "      <td>TRUE</td>\n",
       "      <td>M</td>\n",
       "      <td>lamisil</td>\n",
       "      <td>50</td>\n",
       "      <td>White</td>\n",
       "      <td>Adult</td>\n",
       "      <td>Severe Side Effects</td>\n",
       "    </tr>\n",
       "    <tr>\n",
       "      <th>399996</th>\n",
       "      <td>TRUE</td>\n",
       "      <td>M</td>\n",
       "      <td>klaron</td>\n",
       "      <td>55</td>\n",
       "      <td>Hispanic, White</td>\n",
       "      <td>Adult</td>\n",
       "      <td>No Side Effects</td>\n",
       "    </tr>\n",
       "    <tr>\n",
       "      <th>399997</th>\n",
       "      <td>TRUE</td>\n",
       "      <td>M</td>\n",
       "      <td>celexa</td>\n",
       "      <td>57</td>\n",
       "      <td>Other</td>\n",
       "      <td>Adult</td>\n",
       "      <td>Severe Side Effects</td>\n",
       "    </tr>\n",
       "    <tr>\n",
       "      <th>399998</th>\n",
       "      <td>TRUE</td>\n",
       "      <td>F</td>\n",
       "      <td>zoloft</td>\n",
       "      <td>59</td>\n",
       "      <td>White</td>\n",
       "      <td>Adult</td>\n",
       "      <td>No Side Effects</td>\n",
       "    </tr>\n",
       "    <tr>\n",
       "      <th>399999</th>\n",
       "      <td>TRUE</td>\n",
       "      <td>M</td>\n",
       "      <td>prilosec</td>\n",
       "      <td>65</td>\n",
       "      <td>White</td>\n",
       "      <td>Adult</td>\n",
       "      <td>Mild Side Effects</td>\n",
       "    </tr>\n",
       "  </tbody>\n",
       "</table>\n",
       "<p>396410 rows × 7 columns</p>\n",
       "</div>"
      ],
      "text/plain": [
       "         NAME GENDER DRUG NAME  AGE             RACE AGE CATEGORY  \\\n",
       "0       Aaban      M   topamax   41            White        Adult   \n",
       "1       Aaban      M     zocor   53  Hispanic, White        Adult   \n",
       "2       Aabha      F   tazorac   31            White        Adult   \n",
       "3       Aabha      F  voltaren   44            White        Adult   \n",
       "4       Aabid      M  tramadol   24            White        Adult   \n",
       "...       ...    ...       ...  ...              ...          ...   \n",
       "399995   TRUE      M   lamisil   50            White        Adult   \n",
       "399996   TRUE      M    klaron   55  Hispanic, White        Adult   \n",
       "399997   TRUE      M    celexa   57            Other        Adult   \n",
       "399998   TRUE      F    zoloft   59            White        Adult   \n",
       "399999   TRUE      M  prilosec   65            White        Adult   \n",
       "\n",
       "                         SIDE EFFECTS  \n",
       "0                   Mild Side Effects  \n",
       "1       Extremely Severe Side Effects  \n",
       "2                   Mild Side Effects  \n",
       "3                 Severe Side Effects  \n",
       "4                     No Side Effects  \n",
       "...                               ...  \n",
       "399995            Severe Side Effects  \n",
       "399996                No Side Effects  \n",
       "399997            Severe Side Effects  \n",
       "399998                No Side Effects  \n",
       "399999              Mild Side Effects  \n",
       "\n",
       "[396410 rows x 7 columns]"
      ]
     },
     "execution_count": 40,
     "metadata": {},
     "output_type": "execute_result"
    }
   ],
   "source": [
    "data"
   ]
  },
  {
   "cell_type": "code",
   "execution_count": 41,
   "id": "56c06052",
   "metadata": {},
   "outputs": [
    {
     "data": {
      "text/plain": [
       "Adult           389317\n",
       "Elderly           5592\n",
       "Child             1501\n",
       "Toddler/Baby         0\n",
       "Name: AGE CATEGORY, dtype: int64"
      ]
     },
     "execution_count": 41,
     "metadata": {},
     "output_type": "execute_result"
    }
   ],
   "source": [
    "data['AGE CATEGORY'].value_counts()"
   ]
  },
  {
   "cell_type": "code",
   "execution_count": 42,
   "id": "81720f9c",
   "metadata": {},
   "outputs": [
    {
     "data": {
      "image/png": "[encoded data removed]",
      "text/plain": [
       "<Figure size 360x360 with 1 Axes>"
      ]
     },
     "metadata": {
      "needs_background": "light"
     },
     "output_type": "display_data"
    }
   ],
   "source": [
    "plt.figure(figsize=(5,5))\n",
    "sns.countplot(data['AGE CATEGORY'])\n",
    "plt.show()"
   ]
  },
  {
   "cell_type": "markdown",
   "id": "826aaa97",
   "metadata": {},
   "source": [
    "People in age group 17-64 years consume the most drug."
   ]
  },
  {
   "cell_type": "code",
   "execution_count": 43,
   "id": "a8f64621",
   "metadata": {},
   "outputs": [
    {
     "data": {
      "text/plain": [
       "<AxesSubplot:xlabel='AGE CATEGORY', ylabel='count'>"
      ]
     },
     "execution_count": 43,
     "metadata": {},
     "output_type": "execute_result"
    },
    {
     "data": {
      "image/png": "[encoded data removed]",
      "text/plain": [
       "<Figure size 720x432 with 1 Axes>"
      ]
     },
     "metadata": {
      "needs_background": "light"
     },
     "output_type": "display_data"
    }
   ],
   "source": [
    "plt.figure(figsize=(10, 6))\n",
    "sns.countplot(x='AGE CATEGORY',hue='SIDE EFFECTS',data=data)"
   ]
  },
  {
   "cell_type": "markdown",
   "id": "2f80178c",
   "metadata": {},
   "source": [
    "Mild side effect followed to No sild effect for people in age group 17-64 years"
   ]
  },
  {
   "cell_type": "markdown",
   "id": "636a04cc",
   "metadata": {},
   "source": [
    "# SIDE EFFECTS"
   ]
  },
  {
   "cell_type": "code",
   "execution_count": 44,
   "id": "c95d283b",
   "metadata": {},
   "outputs": [
    {
     "data": {
      "text/plain": [
       "(array([0, 1, 2, 3, 4]),\n",
       " [Text(0, 0, 'Mild Side Effects'),\n",
       "  Text(1, 0, 'Extremely Severe Side Effects'),\n",
       "  Text(2, 0, 'Severe Side Effects'),\n",
       "  Text(3, 0, 'No Side Effects'),\n",
       "  Text(4, 0, 'Moderate Side Effects')])"
      ]
     },
     "execution_count": 44,
     "metadata": {},
     "output_type": "execute_result"
    },
    {
     "data": {
      "image/png": "[encoded data removed]",
      "text/plain": [
       "<Figure size 720x432 with 1 Axes>"
      ]
     },
     "metadata": {
      "needs_background": "light"
     },
     "output_type": "display_data"
    }
   ],
   "source": [
    "plt.figure(figsize=(10,6))\n",
    "sns.countplot(x='SIDE EFFECTS',hue='SIDE EFFECTS',data=data)\n",
    "plt.title(\"SIDE EFFECTS COUNT\",fontsize=18 )\n",
    "plt.xticks(rotation=45)"
   ]
  },
  {
   "cell_type": "markdown",
   "id": "d8d9865f",
   "metadata": {},
   "source": [
    "Inference\n",
    "\n",
    "\n",
    "According to the \"side effects\" count, Mild Side Effects are top most side effects which found basis of the EDA on this Side effects column"
   ]
  },
  {
   "cell_type": "markdown",
   "id": "7917f27b",
   "metadata": {},
   "source": [
    "# GENDER VS SIDE EFFECT"
   ]
  },
  {
   "cell_type": "code",
   "execution_count": 45,
   "id": "841ca0c2",
   "metadata": {},
   "outputs": [
    {
     "data": {
      "text/plain": [
       "<Figure size 3600x2880 with 0 Axes>"
      ]
     },
     "metadata": {},
     "output_type": "display_data"
    },
    {
     "data": {
      "image/png": "[encoded data removed]",
      "text/plain": [
       "<Figure size 1728x432 with 2 Axes>"
      ]
     },
     "metadata": {
      "needs_background": "light"
     },
     "output_type": "display_data"
    }
   ],
   "source": [
    "plt.figure(figsize=(50,40))\n",
    "\n",
    "g = sns.catplot(x=\"SIDE EFFECTS\",col=\"GENDER\",data=data, kind=\"count\",height=6,aspect =2);"
   ]
  },
  {
   "cell_type": "markdown",
   "id": "11667be8",
   "metadata": {},
   "source": [
    "Female has the slight more side effect as compared to  male and the side effect is mild followed by no side effect"
   ]
  },
  {
   "cell_type": "markdown",
   "id": "dbbb2ace",
   "metadata": {},
   "source": [
    "# RACE VS SIDE EFFECT"
   ]
  },
  {
   "cell_type": "code",
   "execution_count": 46,
   "id": "12b2b404",
   "metadata": {},
   "outputs": [
    {
     "data": {
      "text/plain": [
       "<matplotlib.legend.Legend at 0x22347293310>"
      ]
     },
     "execution_count": 46,
     "metadata": {},
     "output_type": "execute_result"
    },
    {
     "data": {
      "image/png": "[encoded data removed]",
      "text/plain": [
       "<Figure size 3600x2880 with 1 Axes>"
      ]
     },
     "metadata": {
      "needs_background": "light"
     },
     "output_type": "display_data"
    }
   ],
   "source": [
    "# Gender: Bar Charts\n",
    "import matplotlib.gridspec as gridspec\n",
    "f, ax = plt.subplots(figsize=(50, 40))\n",
    "gs = gridspec.GridSpec(11, 2)\n",
    "ax = plt.subplot(gs[0,0])\n",
    "sns.countplot(data['RACE'], hue=data['SIDE EFFECTS'], ax=ax, palette = 'Spectral')\n",
    "ax.set_title('Count by Race', fontweight=\"bold\", fontsize=14)\n",
    "ax.set_xlabel(\"\")\n",
    "ax.set_xticklabels(labels=['White', 'Hispanic, White', 'Other', 'Black', 'Hispanic, Black',\n",
    "       'Asian, Other', 'Asian Indian', 'Chinese'])\n",
    "ax.legend(['Moderate Side Effects','Severe Side Effects','Extremely Severe Side Effects','Mild Side Effects','No Side Effects'])"
   ]
  },
  {
   "cell_type": "markdown",
   "id": "1d6c3986",
   "metadata": {},
   "source": [
    "White people has high side effect compared to other race"
   ]
  },
  {
   "cell_type": "code",
   "execution_count": 47,
   "id": "7db7a9d6",
   "metadata": {},
   "outputs": [
    {
     "data": {
      "text/html": [
       "<div>\n",
       "<style scoped>\n",
       "    .dataframe tbody tr th:only-of-type {\n",
       "        vertical-align: middle;\n",
       "    }\n",
       "\n",
       "    .dataframe tbody tr th {\n",
       "        vertical-align: top;\n",
       "    }\n",
       "\n",
       "    .dataframe thead th {\n",
       "        text-align: right;\n",
       "    }\n",
       "</style>\n",
       "<table border=\"1\" class=\"dataframe\">\n",
       "  <thead>\n",
       "    <tr style=\"text-align: right;\">\n",
       "      <th></th>\n",
       "      <th>GENDER</th>\n",
       "      <th>DRUG NAME</th>\n",
       "      <th>AGE</th>\n",
       "      <th>RACE</th>\n",
       "      <th>SIDE EFFECTS</th>\n",
       "    </tr>\n",
       "  </thead>\n",
       "  <tbody>\n",
       "    <tr>\n",
       "      <th>0</th>\n",
       "      <td>M</td>\n",
       "      <td>topamax</td>\n",
       "      <td>41</td>\n",
       "      <td>White</td>\n",
       "      <td>Mild Side Effects</td>\n",
       "    </tr>\n",
       "    <tr>\n",
       "      <th>1</th>\n",
       "      <td>M</td>\n",
       "      <td>zocor</td>\n",
       "      <td>53</td>\n",
       "      <td>Hispanic, White</td>\n",
       "      <td>Extremely Severe Side Effects</td>\n",
       "    </tr>\n",
       "    <tr>\n",
       "      <th>2</th>\n",
       "      <td>F</td>\n",
       "      <td>tazorac</td>\n",
       "      <td>31</td>\n",
       "      <td>White</td>\n",
       "      <td>Mild Side Effects</td>\n",
       "    </tr>\n",
       "  </tbody>\n",
       "</table>\n",
       "</div>"
      ],
      "text/plain": [
       "  GENDER DRUG NAME  AGE             RACE                   SIDE EFFECTS\n",
       "0      M   topamax   41            White              Mild Side Effects\n",
       "1      M     zocor   53  Hispanic, White  Extremely Severe Side Effects\n",
       "2      F   tazorac   31            White              Mild Side Effects"
      ]
     },
     "execution_count": 47,
     "metadata": {},
     "output_type": "execute_result"
    }
   ],
   "source": [
    "#Drop the column \"Name\" which doesn't give any contribution for the modelling\n",
    "data = data.drop(['NAME','AGE CATEGORY'], axis = 1)\n",
    "data.head(3)"
   ]
  },
  {
   "cell_type": "markdown",
   "id": "60fab240",
   "metadata": {},
   "source": [
    "# Label Encodding"
   ]
  },
  {
   "cell_type": "code",
   "execution_count": 48,
   "id": "0cb9ef8d",
   "metadata": {},
   "outputs": [],
   "source": [
    "df=data.copy()"
   ]
  },
  {
   "cell_type": "code",
   "execution_count": 49,
   "id": "e04dd1e5",
   "metadata": {},
   "outputs": [
    {
     "name": "stdout",
     "output_type": "stream",
     "text": [
      "Mapped labels of the features in data01 are [{'F': 0, 'M': 1}, {'abilify': 0, 'accolate': 1, 'accupril': 2, 'accutane': 3, 'aciphex': 4, 'actiq': 5, 'actonel': 6, 'actos': 7, 'acyclovir': 8, 'aczone': 9, 'adcirca': 10, 'adderall': 11, 'adderall-xr': 12, 'adipex-p': 13, 'advair-diskus': 14, 'advair-hfa': 15, 'albuterol': 16, 'aldactone': 17, 'aldara': 18, 'alendronate': 19, 'alesse': 20, 'allegra': 21, 'allegra-d': 22, 'aloprim': 23, 'alprazolam': 24, 'ambien': 25, 'ambien-cr': 26, 'amerge': 27, 'amitiza': 28, 'amoxil': 29, 'amphetamine': 30, 'ampicillin': 31, 'anafranil': 32, 'androgel': 33, 'angeliq': 34, 'antivert': 35, 'aralen': 36, 'arava': 37, 'aricept': 38, 'arimidex': 39, 'armour-thyroid': 40, 'aromasin': 41, 'arthrotec': 42, 'asacol': 43, 'asmanex': 44, 'atacand': 45, 'atarax': 46, 'atenolol': 47, 'ativan': 48, 'atripla': 49, 'augmentin': 50, 'avage': 51, 'avapro': 52, 'avelox': 53, 'avita': 54, 'avodart': 55, 'axert': 56, 'aygestin': 57, 'azasan': 58, 'azelex': 59, 'azopt': 60, 'azor': 61, 'baciim': 62, 'baclofen': 63, 'bactrim-ds': 64, 'bactroban': 65, 'baraclude': 66, 'benadryl': 67, 'benicar': 68, 'benicar-hct': 69, 'benzaclin': 70, 'betamethasone': 71, 'betaseron': 72, 'biaxin': 73, 'bisoprolol': 74, 'boniva': 75, 'botox': 76, 'buprenorphine': 77, 'buspar': 78, 'byetta': 79, 'bystolic': 80, 'caduet': 81, 'carac': 82, 'cardura': 83, 'cardura-xl': 84, 'cataflam': 85, 'catapres': 86, 'ceclor': 87, 'cefzil': 88, 'celebrex': 89, 'celexa': 90, 'chantix': 91, 'cialis': 92, 'cipro': 93, 'citalopram': 94, 'clarinex': 95, 'claripel-cream': 96, 'clarithromycin': 97, 'claritin': 98, 'cleocin': 99, 'climara': 100, 'climara-pro': 101, 'clindamycin': 102, 'clindamycin-topical': 103, 'clobetasol': 104, 'clobex': 105, 'clomid': 106, 'clonazepam': 107, 'compazine': 108, 'concerta': 109, 'copaxone': 110, 'coreg': 111, 'corgard': 112, 'cosopt': 113, 'coumadin': 114, 'cozaar': 115, 'crestor': 116, 'cymbalta': 117, 'cyproheptadine': 118, 'cytomel': 119, 'danazol': 120, 'dapsone': 121, 'darvocet-n': 122, 'delestrogen': 123, 'deltasone': 124, 'depakene': 125, 'depakote': 126, 'depo-provera': 127, 'desonide': 128, 'desyrel': 129, 'detrol': 130, 'detrol-la': 131, 'dexamethasone': 132, 'dexedrine': 133, 'dextroamphetamine': 134, 'dextrostat': 135, 'diazepam': 136, 'diclofenac': 137, 'dicyclomine': 138, 'differin': 139, 'diflucan': 140, 'dilantin': 141, 'dilaudid': 142, 'diltiazem': 143, 'diovan': 144, 'dispermox': 145, 'ditropan': 146, 'divigel': 147, 'doryx': 148, 'dostinex': 149, 'dovonex': 150, 'doxepin': 151, 'doxycycline': 152, 'duac': 153, 'duragesic': 154, 'dysport': 155, 'ecotrin': 156, 'effexor': 157, 'effexor-xr': 158, 'efudex': 159, 'elavil': 160, 'elidel': 161, 'elmiron': 162, 'elocon': 163, 'emsam': 164, 'enablex': 165, 'enalapril': 166, 'enbrel': 167, 'erythra-derm': 168, 'erythromycin': 169, 'estrace': 170, 'estrasorb': 171, 'estratest': 172, 'estring': 173, 'estrostep-fe': 174, 'eulexin': 175, 'evista': 176, 'evoclin': 177, 'exelon': 178, 'femara': 179, 'femhrt': 180, 'femring': 181, 'fentanyl': 182, 'fexofenadine': 183, 'finacea': 184, 'fioricet': 185, 'fiorinal': 186, 'flagyl': 187, 'flexeril': 188, 'flomax': 189, 'flonase': 190, 'flovent': 191, 'fluconazole': 192, 'fluvoxamine': 193, 'follistim': 194, 'fortaz': 195, 'fosamax': 196, 'fosamax-plus-d': 197, 'fosinopril': 198, 'frova': 199, 'galzin': 200, 'geodon': 201, 'glucophage': 202, 'glucophage-xr': 203, 'gonal-f-rff': 204, 'grifulvin-v': 205, 'halcion': 206, 'haldol': 207, 'humira': 208, 'hydrochlorothiazide': 209, 'hydrocodone-and-acetaminophen': 210, 'hydrocortisone': 211, 'hyoscyamine': 212, 'hytrin': 213, 'hyzaar': 214, 'imitrex': 215, 'imodium': 216, 'imuran': 217, 'inderal': 218, 'innofem': 219, 'inspra': 220, 'isoniazid': 221, 'keflex': 222, 'kenalog': 223, 'keppra': 224, 'ketoconazole': 225, 'ketorolac': 226, 'klaron': 227, 'klonopin': 228, 'lac-hydrin': 229, 'lamictal': 230, 'lamisil': 231, 'lamotrigine': 232, 'lantus': 233, 'lasix': 234, 'latisse': 235, 'levaquin': 236, 'levetiracetam': 237, 'levitra': 238, 'levora': 239, 'levothroid': 240, 'levoxyl': 241, 'lexapro': 242, 'lidex': 243, 'lidocaine': 244, 'lipitor': 245, 'lithium-carbonate': 246, 'lo-ovral': 247, 'locoid-lipocream': 248, 'lodine': 249, 'lopressor': 250, 'lorazepam': 251, 'lortab': 252, 'lotrel': 253, 'lotronex': 254, 'lumigan': 255, 'lunesta': 256, 'lupron': 257, 'lybrel': 258, 'lyrica': 259, 'macrobid': 260, 'malarone': 261, 'maxalt': 262, 'medroxyprogesterone': 263, 'meperidine': 264, 'mercaptopurine': 265, 'meridia': 266, 'metformin': 267, 'metformin-extended-release': 268, 'methadone': 269, 'methimazole': 270, 'methotrexate': 271, 'metoclopramide': 272, 'metoprolol': 273, 'metrogel': 274, 'metrolotion': 275, 'metronidazole': 276, 'mevacor': 277, 'micardis': 278, 'minocin': 279, 'minocycline': 280, 'minoxidil': 281, 'miralax': 282, 'mirapex': 283, 'mirena': 284, 'mirtazapine': 285, 'mobic': 286, 'morphine': 287, 'motrin': 288, 'naltrexone': 289, 'naprosyn': 290, 'naproxen': 291, 'nardil': 292, 'nasacort': 293, 'nasacort-aq': 294, 'nasarel': 295, 'nasonex': 296, 'neoprofen': 297, 'neurontin': 298, 'nexium': 299, 'niacor': 300, 'niaspan': 301, 'nitrofurantoin': 302, 'nizoral': 303, 'nizoral-shampoo': 304, 'nolvadex': 305, 'noroxin': 306, 'norpramin': 307, 'nortriptyline': 308, 'norvasc': 309, 'nuvaring': 310, 'nuvigil': 311, 'nystatin': 312, 'omacor': 313, 'omnicef': 314, 'omnitrope': 315, 'oracea': 316, 'ortho-evra': 317, 'ortho-novum': 318, 'ortho-tri-cyclen': 319, 'ortho-tri-cyclen-lo': 320, 'oxazepam': 321, 'oxybutynin': 322, 'oxycodone': 323, 'oxycodone-and-acetaminophen': 324, 'oxycontin': 325, 'pamelor': 326, 'panixine-disperdose': 327, 'parlodel': 328, 'paxil': 329, 'paxil-cr': 330, 'penicillin-v': 331, 'penlac': 332, 'pentasa': 333, 'pepcid': 334, 'percocet': 335, 'periogard': 336, 'periostat': 337, 'permapen': 338, 'phendimetrazine': 339, 'phenergan': 340, 'pilocarpine': 341, 'plavix': 342, 'plendil': 343, 'polymyxin-b': 344, 'ponstel': 345, 'pravachol': 346, 'prednisolone': 347, 'prednisone': 348, 'premarin': 349, 'premarin-vaginal': 350, 'prempro': 351, 'prevacid': 352, 'prilosec': 353, 'prinivil': 354, 'pristiq': 355, 'proair-hfa': 356, 'prochlorperazine': 357, 'progesterone': 358, 'prograf': 359, 'proloprim': 360, 'prometrium': 361, 'propecia': 362, 'propranolol': 363, 'proquin-xr': 364, 'proscar': 365, 'protonix': 366, 'protopic': 367, 'provera': 368, 'provigil': 369, 'prozac': 370, 'quibron-t': 371, 'qvar': 372, 'ranitidine': 373, 'rebif': 374, 'reglan': 375, 'relafen': 376, 'relpax': 377, 'remeron': 378, 'remicade': 379, 'renova': 380, 'requip': 381, 'restasis': 382, 'restoril': 383, 'retin-a': 384, 'retin-a-micro': 385, 'rhinocort': 386, 'ribavirin': 387, 'rifadin': 388, 'risperdal': 389, 'risperdal-consta': 390, 'ritalin': 391, 'ritalin-la': 392, 'saizen': 393, 'sanctura-xr': 394, 'sarafem': 395, 'seasonale': 396, 'seasonique': 397, 'selegiline': 398, 'septra': 399, 'seroquel': 400, 'seroquel-xr': 401, 'serzone': 402, 'singulair': 403, 'skelaxin': 404, 'solodyn': 405, 'soltamox': 406, 'soma': 407, 'sonata': 408, 'sotret': 409, 'spiriva': 410, 'spironolactone': 411, 'strattera': 412, 'suboxone': 413, 'sular': 414, 'sulfasalazine': 415, 'sulindac': 416, 'sumatriptan': 417, 'symbicort': 418, 'symbyax': 419, 'synthroid': 420, 'tambocor': 421, 'tamiflu': 422, 'tapazole': 423, 'tarka': 424, 'tazorac': 425, 'tegretol': 426, 'tekturna': 427, 'temovate': 428, 'tenormin': 429, 'tequin': 430, 'tetracycline': 431, 'tirosint': 432, 'tobramycin': 433, 'tofranil-pm': 434, 'topamax': 435, 'topicort': 436, 'toprol-xl': 437, 'toradol': 438, 'tramadol': 439, 'trazodone': 440, 'trental': 441, 'tri-luma': 442, 'triamcinolone': 443, 'triaz': 444, 'trileptal': 445, 'trilipix': 446, 'trimethobenzamide': 447, 'trimethoprim': 448, 'triphasil': 449, 'tussionex': 450, 'tylenol': 451, 'ultracet': 452, 'ultram': 453, 'ultram-er': 454, 'vagifem': 455, 'valium': 456, 'valtrex': 457, 'vaniqa': 458, 'vasotec': 459, 'ventolin-hfa': 460, 'vesicare': 461, 'viagra': 462, 'vicodin': 463, 'vicoprofen': 464, 'vigamox': 465, 'vioxx': 466, 'vistaril': 467, 'vivelle': 468, 'vivelle-dot': 469, 'voltaren': 470, 'vytorin': 471, 'vyvanse': 472, 'warfarin': 473, 'wellbutrin': 474, 'wellbutrin-sr': 475, 'wellbutrin-xl': 476, 'xalatan': 477, 'xanax': 478, 'xanax-xr': 479, 'xenical': 480, 'xyrem': 481, 'xyzal': 482, 'yasmin': 483, 'zantac': 484, 'zegerid': 485, 'zestoretic': 486, 'ziac': 487, 'ziana': 488, 'zithromax': 489, 'zmax': 490, 'zocor': 491, 'zofran': 492, 'zoloft': 493, 'zomig': 494, 'zovirax': 495, 'zovirax-topical': 496, 'zyban': 497, 'zyprexa': 498, 'zyrtec': 499, 'zyrtec-d': 500, 'zyvox': 501}, {'Asian Indian': 0, 'Asian, Other': 1, 'Black': 2, 'Chinese': 3, 'Hispanic, Black': 4, 'Hispanic, White': 5, 'Other': 6, 'White': 7}, {'Extremely Severe Side Effects': 0, 'Mild Side Effects': 1, 'Moderate Side Effects': 2, 'No Side Effects': 3, 'Severe Side Effects': 4}]\n"
     ]
    }
   ],
   "source": [
    "from sklearn.preprocessing import LabelEncoder\n",
    "\n",
    "cols = []\n",
    "for i in df.columns:\n",
    "    if df[i].dtype == 'object':\n",
    "        cols.append(i)\n",
    "\n",
    "labelencoder = LabelEncoder()\n",
    "mapping =[]\n",
    "for i in cols:\n",
    "    df[i] = labelencoder.fit_transform(df[i])\n",
    "    lemap = dict(zip(labelencoder.classes_,labelencoder.transform(labelencoder.classes_)))\n",
    "    mapping.append(lemap)\n",
    "\n",
    "print(f\"Mapped labels of the features in data01 are {mapping}\")"
   ]
  },
  {
   "cell_type": "code",
   "execution_count": 50,
   "id": "1a579872",
   "metadata": {},
   "outputs": [
    {
     "data": {
      "text/html": [
       "<div>\n",
       "<style scoped>\n",
       "    .dataframe tbody tr th:only-of-type {\n",
       "        vertical-align: middle;\n",
       "    }\n",
       "\n",
       "    .dataframe tbody tr th {\n",
       "        vertical-align: top;\n",
       "    }\n",
       "\n",
       "    .dataframe thead th {\n",
       "        text-align: right;\n",
       "    }\n",
       "</style>\n",
       "<table border=\"1\" class=\"dataframe\">\n",
       "  <thead>\n",
       "    <tr style=\"text-align: right;\">\n",
       "      <th></th>\n",
       "      <th>GENDER</th>\n",
       "      <th>DRUG NAME</th>\n",
       "      <th>AGE</th>\n",
       "      <th>RACE</th>\n",
       "      <th>SIDE EFFECTS</th>\n",
       "    </tr>\n",
       "  </thead>\n",
       "  <tbody>\n",
       "    <tr>\n",
       "      <th>0</th>\n",
       "      <td>1</td>\n",
       "      <td>435</td>\n",
       "      <td>41</td>\n",
       "      <td>7</td>\n",
       "      <td>1</td>\n",
       "    </tr>\n",
       "    <tr>\n",
       "      <th>1</th>\n",
       "      <td>1</td>\n",
       "      <td>491</td>\n",
       "      <td>53</td>\n",
       "      <td>5</td>\n",
       "      <td>0</td>\n",
       "    </tr>\n",
       "    <tr>\n",
       "      <th>2</th>\n",
       "      <td>0</td>\n",
       "      <td>425</td>\n",
       "      <td>31</td>\n",
       "      <td>7</td>\n",
       "      <td>1</td>\n",
       "    </tr>\n",
       "    <tr>\n",
       "      <th>3</th>\n",
       "      <td>0</td>\n",
       "      <td>470</td>\n",
       "      <td>44</td>\n",
       "      <td>7</td>\n",
       "      <td>4</td>\n",
       "    </tr>\n",
       "    <tr>\n",
       "      <th>4</th>\n",
       "      <td>1</td>\n",
       "      <td>439</td>\n",
       "      <td>24</td>\n",
       "      <td>7</td>\n",
       "      <td>3</td>\n",
       "    </tr>\n",
       "    <tr>\n",
       "      <th>...</th>\n",
       "      <td>...</td>\n",
       "      <td>...</td>\n",
       "      <td>...</td>\n",
       "      <td>...</td>\n",
       "      <td>...</td>\n",
       "    </tr>\n",
       "    <tr>\n",
       "      <th>399995</th>\n",
       "      <td>1</td>\n",
       "      <td>231</td>\n",
       "      <td>50</td>\n",
       "      <td>7</td>\n",
       "      <td>4</td>\n",
       "    </tr>\n",
       "    <tr>\n",
       "      <th>399996</th>\n",
       "      <td>1</td>\n",
       "      <td>227</td>\n",
       "      <td>55</td>\n",
       "      <td>5</td>\n",
       "      <td>3</td>\n",
       "    </tr>\n",
       "    <tr>\n",
       "      <th>399997</th>\n",
       "      <td>1</td>\n",
       "      <td>90</td>\n",
       "      <td>57</td>\n",
       "      <td>6</td>\n",
       "      <td>4</td>\n",
       "    </tr>\n",
       "    <tr>\n",
       "      <th>399998</th>\n",
       "      <td>0</td>\n",
       "      <td>493</td>\n",
       "      <td>59</td>\n",
       "      <td>7</td>\n",
       "      <td>3</td>\n",
       "    </tr>\n",
       "    <tr>\n",
       "      <th>399999</th>\n",
       "      <td>1</td>\n",
       "      <td>353</td>\n",
       "      <td>65</td>\n",
       "      <td>7</td>\n",
       "      <td>1</td>\n",
       "    </tr>\n",
       "  </tbody>\n",
       "</table>\n",
       "<p>396410 rows × 5 columns</p>\n",
       "</div>"
      ],
      "text/plain": [
       "        GENDER  DRUG NAME  AGE  RACE  SIDE EFFECTS\n",
       "0            1        435   41     7             1\n",
       "1            1        491   53     5             0\n",
       "2            0        425   31     7             1\n",
       "3            0        470   44     7             4\n",
       "4            1        439   24     7             3\n",
       "...        ...        ...  ...   ...           ...\n",
       "399995       1        231   50     7             4\n",
       "399996       1        227   55     5             3\n",
       "399997       1         90   57     6             4\n",
       "399998       0        493   59     7             3\n",
       "399999       1        353   65     7             1\n",
       "\n",
       "[396410 rows x 5 columns]"
      ]
     },
     "execution_count": 50,
     "metadata": {},
     "output_type": "execute_result"
    }
   ],
   "source": [
    "df"
   ]
  },
  {
   "cell_type": "markdown",
   "id": "b8a2d7a6",
   "metadata": {},
   "source": [
    "# Correlation Heatmap"
   ]
  },
  {
   "cell_type": "code",
   "execution_count": 51,
   "id": "a25aecfd",
   "metadata": {},
   "outputs": [
    {
     "data": {
      "text/html": [
       "<div>\n",
       "<style scoped>\n",
       "    .dataframe tbody tr th:only-of-type {\n",
       "        vertical-align: middle;\n",
       "    }\n",
       "\n",
       "    .dataframe tbody tr th {\n",
       "        vertical-align: top;\n",
       "    }\n",
       "\n",
       "    .dataframe thead th {\n",
       "        text-align: right;\n",
       "    }\n",
       "</style>\n",
       "<table border=\"1\" class=\"dataframe\">\n",
       "  <thead>\n",
       "    <tr style=\"text-align: right;\">\n",
       "      <th></th>\n",
       "      <th>GENDER</th>\n",
       "      <th>DRUG NAME</th>\n",
       "      <th>AGE</th>\n",
       "      <th>RACE</th>\n",
       "      <th>SIDE EFFECTS</th>\n",
       "    </tr>\n",
       "  </thead>\n",
       "  <tbody>\n",
       "    <tr>\n",
       "      <th>0</th>\n",
       "      <td>1</td>\n",
       "      <td>435</td>\n",
       "      <td>41</td>\n",
       "      <td>7</td>\n",
       "      <td>1</td>\n",
       "    </tr>\n",
       "    <tr>\n",
       "      <th>1</th>\n",
       "      <td>1</td>\n",
       "      <td>491</td>\n",
       "      <td>53</td>\n",
       "      <td>5</td>\n",
       "      <td>0</td>\n",
       "    </tr>\n",
       "    <tr>\n",
       "      <th>2</th>\n",
       "      <td>0</td>\n",
       "      <td>425</td>\n",
       "      <td>31</td>\n",
       "      <td>7</td>\n",
       "      <td>1</td>\n",
       "    </tr>\n",
       "    <tr>\n",
       "      <th>3</th>\n",
       "      <td>0</td>\n",
       "      <td>470</td>\n",
       "      <td>44</td>\n",
       "      <td>7</td>\n",
       "      <td>4</td>\n",
       "    </tr>\n",
       "    <tr>\n",
       "      <th>4</th>\n",
       "      <td>1</td>\n",
       "      <td>439</td>\n",
       "      <td>24</td>\n",
       "      <td>7</td>\n",
       "      <td>3</td>\n",
       "    </tr>\n",
       "    <tr>\n",
       "      <th>...</th>\n",
       "      <td>...</td>\n",
       "      <td>...</td>\n",
       "      <td>...</td>\n",
       "      <td>...</td>\n",
       "      <td>...</td>\n",
       "    </tr>\n",
       "    <tr>\n",
       "      <th>399995</th>\n",
       "      <td>1</td>\n",
       "      <td>231</td>\n",
       "      <td>50</td>\n",
       "      <td>7</td>\n",
       "      <td>4</td>\n",
       "    </tr>\n",
       "    <tr>\n",
       "      <th>399996</th>\n",
       "      <td>1</td>\n",
       "      <td>227</td>\n",
       "      <td>55</td>\n",
       "      <td>5</td>\n",
       "      <td>3</td>\n",
       "    </tr>\n",
       "    <tr>\n",
       "      <th>399997</th>\n",
       "      <td>1</td>\n",
       "      <td>90</td>\n",
       "      <td>57</td>\n",
       "      <td>6</td>\n",
       "      <td>4</td>\n",
       "    </tr>\n",
       "    <tr>\n",
       "      <th>399998</th>\n",
       "      <td>0</td>\n",
       "      <td>493</td>\n",
       "      <td>59</td>\n",
       "      <td>7</td>\n",
       "      <td>3</td>\n",
       "    </tr>\n",
       "    <tr>\n",
       "      <th>399999</th>\n",
       "      <td>1</td>\n",
       "      <td>353</td>\n",
       "      <td>65</td>\n",
       "      <td>7</td>\n",
       "      <td>1</td>\n",
       "    </tr>\n",
       "  </tbody>\n",
       "</table>\n",
       "<p>396410 rows × 5 columns</p>\n",
       "</div>"
      ],
      "text/plain": [
       "        GENDER  DRUG NAME  AGE  RACE  SIDE EFFECTS\n",
       "0            1        435   41     7             1\n",
       "1            1        491   53     5             0\n",
       "2            0        425   31     7             1\n",
       "3            0        470   44     7             4\n",
       "4            1        439   24     7             3\n",
       "...        ...        ...  ...   ...           ...\n",
       "399995       1        231   50     7             4\n",
       "399996       1        227   55     5             3\n",
       "399997       1         90   57     6             4\n",
       "399998       0        493   59     7             3\n",
       "399999       1        353   65     7             1\n",
       "\n",
       "[396410 rows x 5 columns]"
      ]
     },
     "execution_count": 51,
     "metadata": {},
     "output_type": "execute_result"
    }
   ],
   "source": [
    "df"
   ]
  },
  {
   "cell_type": "code",
   "execution_count": 52,
   "id": "a4b60a4a",
   "metadata": {},
   "outputs": [
    {
     "data": {
      "image/png": "[encoded data removed]",
      "text/plain": [
       "<Figure size 1080x1080 with 2 Axes>"
      ]
     },
     "metadata": {
      "needs_background": "light"
     },
     "output_type": "display_data"
    }
   ],
   "source": [
    "# Create the correlation heatmap \n",
    "corrmatrix=df.corr()\n",
    "plt.subplots(figsize=(15,15))\n",
    "sns.heatmap(df.corr(),linewidths=.1,cmap=\"YlGnBu\", annot=True)\n",
    "plt.yticks(rotation=0);"
   ]
  },
  {
   "cell_type": "markdown",
   "id": "9791c348",
   "metadata": {},
   "source": [
    "# Training the models"
   ]
  },
  {
   "cell_type": "code",
   "execution_count": 53,
   "id": "f5e1d78b",
   "metadata": {},
   "outputs": [],
   "source": [
    "# Splitting the Dataframe\n",
    "# Independent variables\n",
    "from sklearn.model_selection import train_test_split\n",
    "X = df.drop(['SIDE EFFECTS'], axis=1)\n",
    "# Dependent variables\n",
    "y = df['SIDE EFFECTS']"
   ]
  },
  {
   "cell_type": "code",
   "execution_count": 54,
   "id": "2f87c3ed",
   "metadata": {},
   "outputs": [
    {
     "data": {
      "text/plain": [
       "1    0.333243\n",
       "3    0.289430\n",
       "2    0.186234\n",
       "4    0.133521\n",
       "0    0.057572\n",
       "Name: SIDE EFFECTS, dtype: float64"
      ]
     },
     "execution_count": 54,
     "metadata": {},
     "output_type": "execute_result"
    }
   ],
   "source": [
    "y.value_counts(normalize=True)"
   ]
  },
  {
   "cell_type": "code",
   "execution_count": 55,
   "id": "cd18ee69",
   "metadata": {},
   "outputs": [],
   "source": [
    "X_train, X_test, y_train, y_test = train_test_split(X, y, test_size = 0.35, random_state=42)"
   ]
  },
  {
   "cell_type": "code",
   "execution_count": 56,
   "id": "39dd2811",
   "metadata": {},
   "outputs": [
    {
     "name": "stdout",
     "output_type": "stream",
     "text": [
      "Shape of X_train:  (257666, 4)\n",
      "Shape of X_test:  (138744, 4)\n",
      "Shape of y_train:  (257666,)\n",
      "Shape of y_test:  (138744,)\n"
     ]
    }
   ],
   "source": [
    "print('Shape of X_train: ',X_train.shape)\n",
    "print('Shape of X_test: ',X_test.shape)\n",
    "print('Shape of y_train: ',y_train.shape)\n",
    "print('Shape of y_test: ',y_test.shape)"
   ]
  },
  {
   "cell_type": "code",
   "execution_count": 57,
   "id": "2c29d084",
   "metadata": {},
   "outputs": [],
   "source": [
    "# importing necessary libraries to get the test results\n",
    "\n",
    "from sklearn.metrics import accuracy_score, f1_score,precision_score,recall_score, classification_report\n"
   ]
  },
  {
   "cell_type": "code",
   "execution_count": 58,
   "id": "0232b5c8",
   "metadata": {},
   "outputs": [
    {
     "name": "stdout",
     "output_type": "stream",
     "text": [
      "              precision    recall  f1-score   support\n",
      "\n",
      "           0       0.00      0.00      0.00      7891\n",
      "           1       0.33      0.97      0.50     46166\n",
      "           2       0.00      0.00      0.00     26026\n",
      "           3       0.41      0.04      0.07     40171\n",
      "           4       0.42      0.00      0.00     18490\n",
      "\n",
      "    accuracy                           0.34    138744\n",
      "   macro avg       0.23      0.20      0.11    138744\n",
      "weighted avg       0.28      0.34      0.19    138744\n",
      "\n",
      "Accuracy Score:  0.3352\n",
      "F1 Score:  0.3352\n",
      "Precision Score:  0.3352\n",
      "Recall Score:  0.3352\n"
     ]
    }
   ],
   "source": [
    "from sklearn.linear_model import LogisticRegression\n",
    "import warnings\n",
    "warnings.filterwarnings(\"ignore\")\n",
    "clf = LogisticRegression()\n",
    "clf.fit(X_train, y_train)\n",
    "\n",
    "y_pred = clf.predict(X_test)\n",
    "#Summary of the predictions made by the classifier\n",
    "print(classification_report(y_test, y_pred))\n",
    "from sklearn.metrics import accuracy_score\n",
    "print('Accuracy Score: ',accuracy_score(y_test, y_pred).round(4))\n",
    "print('F1 Score: ',f1_score(y_test, y_pred, average='micro').round(4))\n",
    "print('Precision Score: ',precision_score(y_test, y_pred,average='micro').round(4))\n",
    "print('Recall Score: ',recall_score(y_test, y_pred, average='micro').round(4))\n",
    "\n",
    "\n",
    "    "
   ]
  },
  {
   "cell_type": "code",
   "execution_count": 60,
   "id": "b965d66d",
   "metadata": {},
   "outputs": [
    {
     "data": {
      "image/png": "[encoded data removed]",
      "text/plain": [
       "<Figure size 432x288 with 1 Axes>"
      ]
     },
     "metadata": {
      "needs_background": "light"
     },
     "output_type": "display_data"
    }
   ],
   "source": [
    "#kNN\n",
    "\n",
    "# Finding the optimum k value\n",
    "from sklearn.neighbors import KNeighborsClassifier\n",
    "values=[]\n",
    "neighbors=np.arange(1,10)\n",
    "for k in neighbors:\n",
    "    clf=KNeighborsClassifier(n_neighbors=k, metric='minkowski')\n",
    "    clf.fit(X_train, y_train)\n",
    "    y_pred=clf.predict(X_test)\n",
    "    score=accuracy_score(y_test, y_pred)\n",
    "    values.append(score)\n",
    "    \n",
    "# plotting k vs accuracy_score to get optimum k\n",
    "plt.plot(neighbors, values, 'o-')\n",
    "plt.title('accuracy_score vs k')\n",
    "plt.xticks(np.arange(0.0, 11.0, 1.0))\n",
    "plt.xlabel('k')\n",
    "plt.ylabel('accuracy_score')\n",
    "plt.grid()\n",
    "plt.show()"
   ]
  },
  {
   "cell_type": "code",
   "execution_count": 61,
   "id": "cad1ee74",
   "metadata": {},
   "outputs": [
    {
     "name": "stdout",
     "output_type": "stream",
     "text": [
      "              precision    recall  f1-score   support\n",
      "\n",
      "           0       0.98      0.95      0.97      7891\n",
      "           1       0.98      0.99      0.98     46166\n",
      "           2       0.98      0.98      0.98     26026\n",
      "           3       0.99      0.99      0.99     40171\n",
      "           4       0.99      0.99      0.99     18490\n",
      "\n",
      "    accuracy                           0.98    138744\n",
      "   macro avg       0.98      0.98      0.98    138744\n",
      "weighted avg       0.98      0.98      0.98    138744\n",
      "\n",
      "Accuracy Score:  0.9836\n",
      "F1 Score:  0.9836\n",
      "Precision Score:  0.9836\n",
      "Recall Score:  0.9836\n"
     ]
    }
   ],
   "source": [
    "# performing test with k=5\n",
    "\n",
    "clf=KNeighborsClassifier(n_neighbors=5, metric='minkowski')\n",
    "clf.fit(X_train, y_train)\n",
    "\n",
    "y_pred = clf.predict(X_test)\n",
    "#Summary of the predictions made by the classifier\n",
    "print(classification_report(y_test, y_pred))\n",
    "# print(confusion_matrix(y_test, y_pred))\n",
    "# Accuracy score\n",
    "from sklearn.metrics import accuracy_score\n",
    "print('Accuracy Score: ',accuracy_score(y_test, y_pred).round(4))\n",
    "print('F1 Score: ',f1_score(y_test, y_pred, average='micro').round(4))\n",
    "print('Precision Score: ',precision_score(y_test, y_pred,average='micro').round(4))\n",
    "print('Recall Score: ',recall_score(y_test, y_pred, average='micro').round(4))\n"
   ]
  },
  {
   "cell_type": "markdown",
   "id": "1bdbc716",
   "metadata": {},
   "source": [
    "# RandomForestClassifier"
   ]
  },
  {
   "cell_type": "code",
   "execution_count": 62,
   "id": "ff3eb45d",
   "metadata": {},
   "outputs": [
    {
     "name": "stdout",
     "output_type": "stream",
     "text": [
      "              precision    recall  f1-score   support\n",
      "\n",
      "           0       0.97      0.96      0.97      7891\n",
      "           1       0.98      0.99      0.99     46166\n",
      "           2       0.98      0.98      0.98     26026\n",
      "           3       0.99      0.99      0.99     40171\n",
      "           4       0.99      0.99      0.99     18490\n",
      "\n",
      "    accuracy                           0.99    138744\n",
      "   macro avg       0.98      0.98      0.98    138744\n",
      "weighted avg       0.99      0.99      0.99    138744\n",
      "\n",
      "Accuracy Score:  0.9853\n",
      "F1 Score:  0.9853\n",
      "Precision Score:  0.9853\n",
      "Recall Score:  0.9853\n"
     ]
    }
   ],
   "source": [
    "from sklearn.ensemble import RandomForestClassifier\n",
    "\n",
    "clf = RandomForestClassifier()\n",
    "clf.fit(X_train, y_train)\n",
    "\n",
    "y_pred = clf.predict(X_test)\n",
    "#Summary of the predictions made by the classifier\n",
    "print(classification_report(y_test, y_pred))\n",
    "# print(confusion_matrix(y_test, y_pred))\n",
    "# Accuracy score\n",
    "from sklearn.metrics import accuracy_score\n",
    "print('Accuracy Score: ',accuracy_score(y_test, y_pred).round(4))\n",
    "print('F1 Score: ',f1_score(y_test, y_pred, average='micro').round(4))\n",
    "print('Precision Score: ',precision_score(y_test, y_pred,average='micro').round(4))\n",
    "print('Recall Score: ',recall_score(y_test, y_pred, average='micro').round(4))\n"
   ]
  },
  {
   "cell_type": "markdown",
   "id": "bafafa43",
   "metadata": {},
   "source": [
    "# Gradient Boosting Classifier"
   ]
  },
  {
   "cell_type": "code",
   "execution_count": 63,
   "id": "50a09294",
   "metadata": {},
   "outputs": [
    {
     "name": "stdout",
     "output_type": "stream",
     "text": [
      "              precision    recall  f1-score   support\n",
      "\n",
      "           0       0.89      0.74      0.81      7891\n",
      "           1       0.75      0.85      0.80     46166\n",
      "           2       0.87      0.67      0.76     26026\n",
      "           3       0.78      0.88      0.83     40171\n",
      "           4       0.91      0.68      0.78     18490\n",
      "\n",
      "    accuracy                           0.80    138744\n",
      "   macro avg       0.84      0.77      0.79    138744\n",
      "weighted avg       0.81      0.80      0.80    138744\n",
      "\n",
      "Accuracy Score:  0.7978\n",
      "F1 Score:  0.7978\n",
      "Precision Score:  0.7978\n",
      "Recall Score:  0.7978\n"
     ]
    }
   ],
   "source": [
    "from sklearn.ensemble import GradientBoostingClassifier\n",
    "\n",
    "clf = GradientBoostingClassifier()\n",
    "clf.fit(X_train, y_train)\n",
    "\n",
    "y_pred = clf.predict(X_test)\n",
    "#Summary of the predictions made by the classifier\n",
    "print(classification_report(y_test, y_pred))\n",
    "# print(confusion_matrix(y_test, y_pred))\n",
    "# Accuracy score\n",
    "from sklearn.metrics import accuracy_score\n",
    "print('Accuracy Score: ',accuracy_score(y_test, y_pred).round(4))\n",
    "print('F1 Score: ',f1_score(y_test, y_pred, average='micro').round(4))\n",
    "print('Precision Score: ',precision_score(y_test, y_pred,average='micro').round(4))\n",
    "print('Recall Score: ',recall_score(y_test, y_pred, average='micro').round(4))\n"
   ]
  },
  {
   "cell_type": "markdown",
   "id": "633be759",
   "metadata": {},
   "source": [
    "# Xtreme Gradient Boosting Classifier"
   ]
  },
  {
   "cell_type": "code",
   "execution_count": 64,
   "id": "cbd7aafa",
   "metadata": {},
   "outputs": [
    {
     "name": "stdout",
     "output_type": "stream",
     "text": [
      "              precision    recall  f1-score   support\n",
      "\n",
      "           0       0.95      0.97      0.96      7891\n",
      "           1       0.96      0.97      0.96     46166\n",
      "           2       0.96      0.96      0.96     26026\n",
      "           3       0.97      0.96      0.97     40171\n",
      "           4       0.98      0.96      0.97     18490\n",
      "\n",
      "    accuracy                           0.96    138744\n",
      "   macro avg       0.96      0.96      0.96    138744\n",
      "weighted avg       0.96      0.96      0.96    138744\n",
      "\n",
      "Accuracy Score:  0.9643\n",
      "F1 Score:  0.9643\n",
      "Precision Score:  0.9643\n",
      "Recall Score:  0.9643\n"
     ]
    }
   ],
   "source": [
    "import xgboost as xgb\n",
    "\n",
    "clf = xgb.XGBClassifier(use_label_encoder =False)\n",
    "clf.fit(X_train, y_train)\n",
    "\n",
    "y_pred = clf.predict(X_test)\n",
    "#Summary of the predictions made by the classifier\n",
    "print(classification_report(y_test, y_pred))\n",
    "# print(confusion_matrix(y_test, y_pred))\n",
    "# Accuracy score\n",
    "from sklearn.metrics import accuracy_score\n",
    "print('Accuracy Score: ',accuracy_score(y_test, y_pred).round(4))\n",
    "print('F1 Score: ',f1_score(y_test, y_pred, average='micro').round(4))\n",
    "print('Precision Score: ',precision_score(y_test, y_pred,average='micro').round(4))\n",
    "print('Recall Score: ',recall_score(y_test, y_pred, average='micro').round(4))\n"
   ]
  },
  {
   "cell_type": "code",
   "execution_count": null,
   "id": "dc4f912e",
   "metadata": {},
   "outputs": [],
   "source": []
  },
  {
   "cell_type": "markdown",
   "id": "0878b8ea",
   "metadata": {},
   "source": [
    "# Decision Tree"
   ]
  },
  {
   "cell_type": "code",
   "execution_count": 59,
   "id": "cde2553e",
   "metadata": {},
   "outputs": [
    {
     "name": "stdout",
     "output_type": "stream",
     "text": [
      "              precision    recall  f1-score   support\n",
      "\n",
      "           0       0.97      0.96      0.97      7891\n",
      "           1       0.98      0.99      0.99     46166\n",
      "           2       0.98      0.98      0.98     26026\n",
      "           3       0.99      0.99      0.99     40171\n",
      "           4       0.99      0.99      0.99     18490\n",
      "\n",
      "    accuracy                           0.99    138744\n",
      "   macro avg       0.98      0.98      0.98    138744\n",
      "weighted avg       0.99      0.99      0.99    138744\n",
      "\n",
      "Accuracy Score:  0.9862\n",
      "F1 Score:  0.9862\n",
      "Precision Score:  0.9862\n",
      "Recall Score:  0.9862\n"
     ]
    }
   ],
   "source": [
    "# Decision Tree's\n",
    "from sklearn.tree import DecisionTreeClassifier\n",
    "\n",
    "classifier_dt = DecisionTreeClassifier()\n",
    "\n",
    "classifier_dt.fit(X_train, y_train)\n",
    "\n",
    "y_pred_dt = classifier_dt.predict(X_test)\n",
    "#Summary of the predictions made by the classifier\n",
    "print(classification_report(y_test, y_pred_dt))\n",
    "# print(confusion_matrix(y_test, y_pred))\n",
    "# Accuracy score\n",
    "from sklearn.metrics import accuracy_score\n",
    "print('Accuracy Score: ',accuracy_score(y_test, y_pred_dt).round(4))\n",
    "print('F1 Score: ',f1_score(y_test, y_pred_dt, average='micro').round(4))\n",
    "print('Precision Score: ',precision_score(y_test, y_pred_dt,average='micro').round(4))\n",
    "print('Recall Score: ',recall_score(y_test, y_pred_dt, average='micro').round(4))\n"
   ]
  },
  {
   "cell_type": "code",
   "execution_count": 66,
   "id": "79ad5fb4",
   "metadata": {},
   "outputs": [
    {
     "data": {
      "image/png": "[encoded data removed]",
      "text/plain": [
       "<Figure size 432x288 with 1 Axes>"
      ]
     },
     "metadata": {
      "needs_background": "light"
     },
     "output_type": "display_data"
    }
   ],
   "source": [
    "from sklearn.metrics import confusion_matrix\n",
    "cfm=confusion_matrix(y_test, y_pred_dt)\n",
    "sns.heatmap(cfm, annot = True,  linewidths=.5, cbar =None)\n",
    "plt.title('Decision Tree Classifier confusion matrix')\n",
    "plt.ylabel('True label')\n",
    "plt.xlabel('Predicted label');"
   ]
  },
  {
   "cell_type": "code",
   "execution_count": 67,
   "id": "c4147dde",
   "metadata": {},
   "outputs": [
    {
     "data": {
      "image/png": "[encoded data removed]",
      "text/plain": [
       "<Figure size 360x504 with 1 Axes>"
      ]
     },
     "metadata": {
      "needs_background": "light"
     },
     "output_type": "display_data"
    }
   ],
   "source": [
    "features_list = X.columns.values\n",
    "feature_importance = classifier_dt.feature_importances_\n",
    "sorted_idx = np.argsort(feature_importance)\n",
    "\n",
    "plt.figure(figsize=(5,7))\n",
    "plt.barh(range(len(sorted_idx)), feature_importance[sorted_idx], align='center')\n",
    "plt.yticks(range(len(sorted_idx)), features_list[sorted_idx])\n",
    "plt.xlabel('Importance')\n",
    "plt.title('Feature importance - Decision Tree Classifier')\n",
    "plt.draw()\n",
    "plt.show()"
   ]
  },
  {
   "cell_type": "code",
   "execution_count": 68,
   "id": "ddbffab4",
   "metadata": {},
   "outputs": [
    {
     "data": {
      "image/png": "[encoded data removed]",
      "text/plain": [
       "<Figure size 720x360 with 2 Axes>"
      ]
     },
     "metadata": {},
     "output_type": "display_data"
    }
   ],
   "source": [
    "# Creating  a confusion matrix,which compares the y_test and y_pred\n",
    "cm = confusion_matrix(y_test, y_pred_dt)\n",
    "sns.set(rc = {'figure.figsize':(10,5)})\n",
    "ax = sns.heatmap(cm)\n",
    "\n",
    "ax.set_title('Heat Map of Confusion Matrix of GradientBoostingClassifier with labels\\n\\n', fontsize = 20);\n",
    "ax.set_xlabel('Actual Side Effects',  fontsize = 15);\n",
    "ax.set_ylabel('\\nPredicted Side Effects',  fontsize = 15);\n",
    "\n",
    "## Ticket labels - List must be in alphabetical order\n",
    "ax.xaxis.set_ticklabels(['extreme severe side effects','mild side effects','moderate side effects','no side effects','severe side effects'])\n",
    "ax.yaxis.set_ticklabels(['extreme severe side effects','mild side effects','moderate side effects','no side effects','severe side effects'])\n",
    "plt.xticks(rotation=15)\n",
    "plt.yticks(rotation=15)\n",
    "## Display the visualization of the Confusion Matrix.\n",
    "plt.show()\n"
   ]
  },
  {
   "cell_type": "code",
   "execution_count": null,
   "id": "529778c6",
   "metadata": {},
   "outputs": [],
   "source": []
  }
 ],
 "metadata": {
  "kernelspec": {
   "display_name": "Python 3 (ipykernel)",
   "language": "python",
   "name": "python3"
  },
  "language_info": {
   "codemirror_mode": {
    "name": "ipython",
    "version": 3
   },
   "file_extension": ".py",
   "mimetype": "text/x-python",
   "name": "python",
   "nbconvert_exporter": "python",
   "pygments_lexer": "ipython3",
   "version": "3.9.7"
  }
 },
 "nbformat": 4,
 "nbformat_minor": 5
}
